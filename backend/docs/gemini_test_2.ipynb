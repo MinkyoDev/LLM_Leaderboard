{
 "cells": [
  {
   "cell_type": "code",
   "execution_count": 1,
   "metadata": {},
   "outputs": [],
   "source": [
    "!pip install -q -U google-generativeai"
   ]
  },
  {
   "cell_type": "code",
   "execution_count": 2,
   "metadata": {},
   "outputs": [
    {
     "name": "stderr",
     "output_type": "stream",
     "text": [
      "c:\\Users\\AI\\miniforge3\\envs\\leaderboard\\lib\\site-packages\\tqdm\\auto.py:21: TqdmWarning: IProgress not found. Please update jupyter and ipywidgets. See https://ipywidgets.readthedocs.io/en/stable/user_install.html\n",
      "  from .autonotebook import tqdm as notebook_tqdm\n"
     ]
    }
   ],
   "source": [
    "import pathlib\n",
    "import textwrap\n",
    "\n",
    "import google.generativeai as genai\n",
    "\n",
    "from IPython.display import display\n",
    "from IPython.display import Markdown\n",
    "\n",
    "\n",
    "def to_markdown(text):\n",
    "  text = text.replace('•', '  *')\n",
    "  return Markdown(textwrap.indent(text, '> ', predicate=lambda _: True))"
   ]
  },
  {
   "cell_type": "code",
   "execution_count": null,
   "metadata": {},
   "outputs": [],
   "source": [
    "from pathlib import Path\n",
    "import os, dotenv\n",
    "\n",
    "dotenv_file = dotenv.find_dotenv(str(Path(\"./\").absolute().joinpath(\".env\")))\n",
    "dotenv.load_dotenv(dotenv_file)\n",
    "GOOGLE_API_KEY = os.environ[\"GOOGLE_API_KEY\"]\n",
    "genai.configure(api_key=GOOGLE_API_KEY)"
   ]
  },
  {
   "cell_type": "code",
   "execution_count": 4,
   "metadata": {},
   "outputs": [
    {
     "name": "stdout",
     "output_type": "stream",
     "text": [
      "models/gemini-pro\n",
      "models/gemini-pro-vision\n"
     ]
    }
   ],
   "source": [
    "for m in genai.list_models():\n",
    "  if 'generateContent' in m.supported_generation_methods:\n",
    "    print(m.name)"
   ]
  },
  {
   "cell_type": "code",
   "execution_count": 5,
   "metadata": {},
   "outputs": [],
   "source": [
    "model = genai.GenerativeModel('gemini-pro')"
   ]
  },
  {
   "cell_type": "code",
   "execution_count": 6,
   "metadata": {},
   "outputs": [
    {
     "name": "stdout",
     "output_type": "stream",
     "text": [
      "CPU times: total: 0 ns\n",
      "Wall time: 10.8 s\n"
     ]
    }
   ],
   "source": [
    "%%time\n",
    "response = model.generate_content(\"What is the meaning of life?\")"
   ]
  },
  {
   "cell_type": "code",
   "execution_count": 7,
   "metadata": {},
   "outputs": [
    {
     "data": {
      "text/markdown": [
       "> The meaning of life is a deeply personal and subjective question that has been pondered by philosophers, theologians, scientists, and artists for centuries. There is no single answer that is universally accepted, as the meaning of life can vary depending on individual beliefs, values, and experiences. Some people may find meaning in their relationships with others, their work, or their pursuit of knowledge, while others may find it in spiritual or religious practices. Ultimately, the meaning of life is something that each individual must discover for themselves through exploration, reflection, and self-awareness.\n",
       "> \n",
       "> Here are some common approaches to understanding the meaning of life:\n",
       "> \n",
       "> 1. **Purpose-Driven:** This approach suggests that the meaning of life lies in fulfilling a specific purpose or goal. This could be a personal goal, such as achieving a certain career or raising a family, or a broader purpose, such as making a positive impact on the world.\n",
       "> \n",
       "> 2. **Relationship-Oriented:** For some, the meaning of life is found in the relationships they have with others. This could include family, friends, romantic partners, or even a connection to a larger community or group.\n",
       "> \n",
       "> 3. **Experience-Based:** Some people believe that the meaning of life is to simply experience life to the fullest. This could involve pursuing new adventures, trying different things, and seeking out moments of joy and fulfillment.\n",
       "> \n",
       "> 4. **Contribution-Focused:** This approach suggests that the meaning of life lies in making a contribution to the world. This could involve using one's skills and talents to help others, making a difference in society, or leaving behind a legacy.\n",
       "> \n",
       "> 5. **Spiritual or Religious:** For many people, the meaning of life is found in their spiritual or religious beliefs. This could involve following a particular set of teachings or practices, seeking enlightenment or salvation, or connecting with a higher power.\n",
       "> \n",
       "> 6. **Existential:** Some people believe that the meaning of life is to simply exist and to embrace the absurdity of life. This approach acknowledges that life may not have an inherent meaning, but that it is still possible to find purpose and value in the present moment.\n",
       "> \n",
       "> Ultimately, the meaning of life is a highly personal and subjective question that each individual must explore and define for themselves. There is no right or wrong answer, and the meaning of life can evolve and change over time based on one's experiences, values, and beliefs."
      ],
      "text/plain": [
       "<IPython.core.display.Markdown object>"
      ]
     },
     "execution_count": 7,
     "metadata": {},
     "output_type": "execute_result"
    }
   ],
   "source": [
    "to_markdown(response.text)"
   ]
  },
  {
   "cell_type": "code",
   "execution_count": 8,
   "metadata": {},
   "outputs": [
    {
     "data": {
      "text/plain": [
       "safety_ratings {\n",
       "  category: HARM_CATEGORY_SEXUALLY_EXPLICIT\n",
       "  probability: NEGLIGIBLE\n",
       "}\n",
       "safety_ratings {\n",
       "  category: HARM_CATEGORY_HATE_SPEECH\n",
       "  probability: NEGLIGIBLE\n",
       "}\n",
       "safety_ratings {\n",
       "  category: HARM_CATEGORY_HARASSMENT\n",
       "  probability: NEGLIGIBLE\n",
       "}\n",
       "safety_ratings {\n",
       "  category: HARM_CATEGORY_DANGEROUS_CONTENT\n",
       "  probability: NEGLIGIBLE\n",
       "}"
      ]
     },
     "execution_count": 8,
     "metadata": {},
     "output_type": "execute_result"
    }
   ],
   "source": [
    "response.prompt_feedback"
   ]
  },
  {
   "cell_type": "code",
   "execution_count": 9,
   "metadata": {},
   "outputs": [
    {
     "data": {
      "text/plain": [
       "[index: 0\n",
       "content {\n",
       "  parts {\n",
       "    text: \"The meaning of life is a deeply personal and subjective question that has been pondered by philosophers, theologians, scientists, and artists for centuries. There is no single answer that is universally accepted, as the meaning of life can vary depending on individual beliefs, values, and experiences. Some people may find meaning in their relationships with others, their work, or their pursuit of knowledge, while others may find it in spiritual or religious practices. Ultimately, the meaning of life is something that each individual must discover for themselves through exploration, reflection, and self-awareness.\\n\\nHere are some common approaches to understanding the meaning of life:\\n\\n1. **Purpose-Driven:** This approach suggests that the meaning of life lies in fulfilling a specific purpose or goal. This could be a personal goal, such as achieving a certain career or raising a family, or a broader purpose, such as making a positive impact on the world.\\n\\n2. **Relationship-Oriented:** For some, the meaning of life is found in the relationships they have with others. This could include family, friends, romantic partners, or even a connection to a larger community or group.\\n\\n3. **Experience-Based:** Some people believe that the meaning of life is to simply experience life to the fullest. This could involve pursuing new adventures, trying different things, and seeking out moments of joy and fulfillment.\\n\\n4. **Contribution-Focused:** This approach suggests that the meaning of life lies in making a contribution to the world. This could involve using one\\'s skills and talents to help others, making a difference in society, or leaving behind a legacy.\\n\\n5. **Spiritual or Religious:** For many people, the meaning of life is found in their spiritual or religious beliefs. This could involve following a particular set of teachings or practices, seeking enlightenment or salvation, or connecting with a higher power.\\n\\n6. **Existential:** Some people believe that the meaning of life is to simply exist and to embrace the absurdity of life. This approach acknowledges that life may not have an inherent meaning, but that it is still possible to find purpose and value in the present moment.\\n\\nUltimately, the meaning of life is a highly personal and subjective question that each individual must explore and define for themselves. There is no right or wrong answer, and the meaning of life can evolve and change over time based on one\\'s experiences, values, and beliefs.\"\n",
       "  }\n",
       "  role: \"model\"\n",
       "}\n",
       "finish_reason: STOP\n",
       "safety_ratings {\n",
       "  category: HARM_CATEGORY_SEXUALLY_EXPLICIT\n",
       "  probability: NEGLIGIBLE\n",
       "}\n",
       "safety_ratings {\n",
       "  category: HARM_CATEGORY_HATE_SPEECH\n",
       "  probability: NEGLIGIBLE\n",
       "}\n",
       "safety_ratings {\n",
       "  category: HARM_CATEGORY_HARASSMENT\n",
       "  probability: NEGLIGIBLE\n",
       "}\n",
       "safety_ratings {\n",
       "  category: HARM_CATEGORY_DANGEROUS_CONTENT\n",
       "  probability: NEGLIGIBLE\n",
       "}\n",
       "]"
      ]
     },
     "execution_count": 9,
     "metadata": {},
     "output_type": "execute_result"
    }
   ],
   "source": [
    "response.candidates"
   ]
  },
  {
   "cell_type": "code",
   "execution_count": 10,
   "metadata": {},
   "outputs": [
    {
     "name": "stdout",
     "output_type": "stream",
     "text": [
      "CPU times: total: 0 ns\n",
      "Wall time: 1.98 s\n"
     ]
    }
   ],
   "source": [
    "%%time\n",
    "response = model.generate_content(\"What is the meaning of life?\", stream=True)"
   ]
  },
  {
   "cell_type": "code",
   "execution_count": 11,
   "metadata": {},
   "outputs": [
    {
     "name": "stdout",
     "output_type": "stream",
     "text": [
      "The meaning of life is a profound question that has been pondered by philosophers, theologians\n",
      "________________________________________________________________________________\n",
      ", and individuals throughout history. Different cultures, religions, and philosophies offer various interpretations of the meaning of life, making it a deeply personal and subjective inquiry.\n",
      "\n",
      "\n",
      "________________________________________________________________________________\n",
      "Here are some common perspectives on the meaning of life:\n",
      "\n",
      "1. **Purpose or Goal-Oriented Meaning:**\n",
      "\n",
      "   - This view suggests that life's meaning is derived from having a sense of purpose, goals, or aspirations. It involves identifying what is important to you, setting objectives, and pursuing them with intention\n",
      "________________________________________________________________________________\n",
      ". Achieving these goals and milestones can provide a sense of fulfillment and meaning.\n",
      "\n",
      "2. **Happiness and Well-Being:**\n",
      "\n",
      "   - Many people find meaning in life by seeking happiness, joy, and overall well-being. This approach focuses on cultivating positive emotions, reducing suffering, and striving for a fulfilling and satisfying life. It emphasizes the importance of relationships, experiences, and personal growth.\n",
      "\n",
      "3. **Contribution and Service:**\n",
      "\n",
      "   - Some individuals find meaning in life by making a positive impact on the world. This may involve contributing to society through acts of kindness, volunteering, or pursuing a career that benefits others. Helping others\n",
      "________________________________________________________________________________\n",
      ", making a difference, and leaving a legacy can provide a sense of purpose and meaning.\n",
      "\n",
      "4. **Self-Actualization and Fulfillment:**\n",
      "\n",
      "   - This perspective emphasizes the importance of personal growth, self-discovery, and reaching one's full potential. It involves developing your talents, abilities, and values to become the best version of yourself. Self-actualization and fulfillment can lead to a sense of meaning and contentment.\n",
      "\n",
      "5. **Spiritual or Divine Meaning:**\n",
      "\n",
      "   - Many people find meaning in life through religious or spiritual beliefs. They may derive purpose from their faith, seeking a connection with a higher power, or following a set of spiritual principles. Religious practices, rituals, and communities can provide a sense of belonging and a framework for understanding life's purpose.\n",
      "\n",
      "6. **Experiencing and Appreciating Life:**\n",
      "\n",
      "   - Some individuals find meaning in life by simply experiencing and appreciating the present moment. They focus on savoring the beauty of nature, engaging in meaningful conversations, and connecting with others. They believe that life's richness lies in the journey itself rather than a specific destination or goal.\n",
      "\n",
      "7. **Creating Legacy and Impact:**\n",
      "\n",
      "   - Others find meaning in life by creating a legacy or leaving an impact that extends beyond\n",
      "________________________________________________________________________________\n",
      " their own lifetime. This may involve writing a book, creating art, or mentoring others. The desire to make a lasting contribution to the world can provide a sense of purpose and significance.\n",
      "\n",
      "8. **Existential Meaning-Making:**\n",
      "\n",
      "   - Some philosophers argue that meaning is not inherent in life but rather is something that individuals create or construct for themselves. This perspective emphasizes the freedom and responsibility of each person to find their own meaning and purpose in existence.\n",
      "\n",
      "Remember, the meaning of life is a personal and subjective concept that can evolve throughout one's life journey. There is no single, universal answer that applies to everyone. It is a matter of introspection, exploration, and reflection, and the meaning you find may change and develop as you grow and experience life.\n",
      "________________________________________________________________________________\n"
     ]
    }
   ],
   "source": [
    "for chunk in response:\n",
    "  print(chunk.text)\n",
    "  print(\"_\"*80)"
   ]
  },
  {
   "cell_type": "code",
   "execution_count": 12,
   "metadata": {},
   "outputs": [],
   "source": [
    "response = model.generate_content(\"What is the meaning of life?\", stream=True)"
   ]
  },
  {
   "cell_type": "code",
   "execution_count": null,
   "metadata": {},
   "outputs": [],
   "source": [
    "response.prompt_feedback"
   ]
  }
 ],
 "metadata": {
  "kernelspec": {
   "display_name": "leaderboard",
   "language": "python",
   "name": "python3"
  },
  "language_info": {
   "codemirror_mode": {
    "name": "ipython",
    "version": 3
   },
   "file_extension": ".py",
   "mimetype": "text/x-python",
   "name": "python",
   "nbconvert_exporter": "python",
   "pygments_lexer": "ipython3",
   "version": "3.10.13"
  }
 },
 "nbformat": 4,
 "nbformat_minor": 2
}
